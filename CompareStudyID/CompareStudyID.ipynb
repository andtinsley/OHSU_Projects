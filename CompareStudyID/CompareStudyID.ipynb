{
 "cells": [
  {
   "cell_type": "code",
   "execution_count": 320,
   "metadata": {},
   "outputs": [],
   "source": [
    "import pandas as pd\n",
    "import glob\n",
    "import os\n",
    "import numpy as np"
   ]
  },
  {
   "cell_type": "code",
   "execution_count": 321,
   "metadata": {},
   "outputs": [],
   "source": [
    "data = pd.DataFrame()\n",
    "data['StudyId']=\"\"\n",
    "globbed_files = glob.glob(\"*.csv\")\n",
    "for csv in globbed_files:\n",
    "    frame = pd.read_csv(csv, header=None)\n",
    "    frame.columns=['StudyId']\n",
    "    frame['filename'] = os.path.basename(csv)\n",
    "    frame['StudyId'] = frame['StudyId'].str.rsplit('.', n=1).str[0].str.split('.').str[-1]\n",
    "    frame['filename'] = frame['filename'].str.rsplit('.', n=1).str[0].str.split('.').str[-1]\n",
    "    frame['StudyId'] = frame['StudyId'].str.rsplit('\\\\', 1).str[1]\n",
    "    frame = frame.drop_duplicates(subset=['StudyId'])\n",
    "    data = pd.merge(frame, data, on='StudyId', how='outer')\n",
    "\n",
    "    \n"
   ]
  },
  {
   "cell_type": "code",
   "execution_count": 322,
   "metadata": {},
   "outputs": [],
   "source": [
    "dropFirstColumn = data.iloc[: , 1:]\n",
    "StudyIdColumn = data.iloc[: , :1]"
   ]
  },
  {
   "cell_type": "code",
   "execution_count": 323,
   "metadata": {},
   "outputs": [],
   "source": [
    "listOfColumnNames = []\n",
    "for col in dropFirstColumn:\n",
    "    d = dropFirstColumn[col].unique()\n",
    "    d = [x for x in d if str(x) != 'nan']\n",
    "    listOfColumnNames.append(d[0])\n",
    "dropFirstColumn.columns = listOfColumnNames\n",
    "#replace values with 1 or blanks\n",
    "dropFirstColumn = dropFirstColumn.notna()\n",
    "dropFirstColumn = dropFirstColumn.astype('int').astype('string').replace(['0', '0.0'], '')\n",
    "dropFirstColumn['StudyId'] = StudyIdColumn\n",
    "finalSet = dropFirstColumn.set_index('StudyId')"
   ]
  },
  {
   "cell_type": "code",
   "execution_count": 325,
   "metadata": {},
   "outputs": [],
   "source": [
    "finalSet.to_csv(\"Compare Study Results.csv\", index=True)"
   ]
  }
 ],
 "metadata": {
  "kernelspec": {
   "display_name": "base",
   "language": "python",
   "name": "python3"
  },
  "language_info": {
   "codemirror_mode": {
    "name": "ipython",
    "version": 3
   },
   "file_extension": ".py",
   "mimetype": "text/x-python",
   "name": "python",
   "nbconvert_exporter": "python",
   "pygments_lexer": "ipython3",
   "version": "3.8.5"
  },
  "orig_nbformat": 4
 },
 "nbformat": 4,
 "nbformat_minor": 2
}
