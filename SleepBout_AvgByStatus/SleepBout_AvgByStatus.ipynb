{
 "cells": [
  {
   "cell_type": "code",
   "execution_count": 1,
   "metadata": {},
   "outputs": [],
   "source": [
    "import pandas as pd\n",
    "import numpy as np\n",
    "import os\n",
    "import glob\n",
    "from datetime import datetime"
   ]
  },
  {
   "cell_type": "code",
   "execution_count": 2,
   "metadata": {},
   "outputs": [],
   "source": [
    "path = os.getcwd()\n",
    "\n",
    "# read all the files with extension .csv\n",
    "filenames = glob.glob(os.path.join(path, \"*.txt\"))"
   ]
  },
  {
   "cell_type": "code",
   "execution_count": 3,
   "metadata": {},
   "outputs": [],
   "source": [
    "#get light time inputs \n",
    "if __name__ == \"__main__\":\n",
    "    lightsOn = input(\"Input lights on time (format x:xx AM/PM): \")\n",
    "    lightsOff = input(\"Input lights off time (format x:xx AM/PM): \")\n",
    "\n",
    "#lightsOn = '6:00 AM'\n",
    "#lightsOff = '6:00 PM'\n",
    "def convertTime(getTime):\n",
    "    stripTime = datetime.strptime(getTime, '%I:%M %p').time()\n",
    "    return stripTime\n",
    "lightsOn = convertTime(lightsOn)\n",
    "lightsOff = convertTime(lightsOff)"
   ]
  },
  {
   "cell_type": "code",
   "execution_count": 7,
   "metadata": {},
   "outputs": [
    {
     "name": "stdout",
     "output_type": "stream",
     "text": [
      "File 'Average Bout Length.csv' created successfully.\n"
     ]
    }
   ],
   "source": [
    "d_list = []\n",
    "for file in filenames:\n",
    "\n",
    "    getSubject = file.split('\\\\')[-1]\n",
    "    getSubject = getSubject.split('.')[0]\n",
    "    \n",
    "    d=pd.read_csv(file, skiprows= 17, delimiter='\\t',  escapechar='\\\\', usecols=['Time', 'Stage'])\n",
    "    d=d.iloc[1: , :]\n",
    "    d.Time = pd.to_datetime(d.Time)\n",
    "    d['File'] = getSubject\n",
    "\n",
    "    \n",
    "    #strip time\n",
    "    d['DateTime'] = d['Time']\n",
    "    d['Time'] = d['Time'].dt.time\n",
    "\n",
    "    #strip date\n",
    "    d['Date']=d.DateTime.dt.date\n",
    "\n",
    "    d['LightsOn'] = lightsOn\n",
    "    d['LightsOff'] = lightsOff\n",
    "\n",
    "    d['IsLightsOn'] = np.where((d['Time']>=d['LightsOn']) & (d['Time']<d['LightsOff']),  1, 0)\n",
    "\n",
    "    #time difference between time points is always four seconds\n",
    "    d['StageTime'] = 4\n",
    "\n",
    "    d['NextStage']=(d['Stage'].shift(-1))\n",
    "    d['IsTransition'] = np.where(d['Stage'] == d['NextStage'], 0, 1)\n",
    "    \n",
    "    #calculate average bout length in seconds per lights on and stage\n",
    "    #get bout length\n",
    "    def getBoutSum(dataset):\n",
    "        dataset['StageID'] = dataset['IsTransition'].cumsum()\n",
    "        dataset = dataset.groupby([\"File\",\"Date\", \"IsLightsOn\",'StageID', \"Stage\"])['StageTime'].sum().reset_index()\n",
    "        dataset['StageID'] = dataset['StageID'].astype(int)\n",
    "        return dataset\n",
    "    \n",
    "    d = getBoutSum(d)\n",
    "\n",
    "    #average bout lengths per file, light and stage\n",
    "\n",
    "    def getBoutAvg(dataset):\n",
    "        dataset = dataset.groupby(['File', 'IsLightsOn','Stage'])['StageTime'].mean().reset_index()\n",
    "        dataset = dataset.rename(columns={\"StageTime\": \"Average Bout Length (seconds)\"})\n",
    "        return dataset\n",
    "    \n",
    "    d = getBoutAvg(d)\n",
    "    d_list.append(d)\n",
    "DF_Stages = pd.concat(d_list, axis=0, ignore_index=True) \n",
    "DF_Stages.sort_values(['File', 'IsLightsOn', 'Stage'])\n",
    "DF_Stages['Average Bout Length (seconds)']=DF_Stages['Average Bout Length (seconds)'].round(3)\n",
    "DF_Stages.to_csv('Average Bout Length.csv', index=False)\n",
    "print(f\"File '{'Average Bout Length.csv'}' created successfully.\")"
   ]
  }
 ],
 "metadata": {
  "kernelspec": {
   "display_name": "ConcatFiles",
   "language": "python",
   "name": "python3"
  },
  "language_info": {
   "codemirror_mode": {
    "name": "ipython",
    "version": 3
   },
   "file_extension": ".py",
   "mimetype": "text/x-python",
   "name": "python",
   "nbconvert_exporter": "python",
   "pygments_lexer": "ipython3",
   "version": "3.10.1"
  },
  "orig_nbformat": 4
 },
 "nbformat": 4,
 "nbformat_minor": 2
}
